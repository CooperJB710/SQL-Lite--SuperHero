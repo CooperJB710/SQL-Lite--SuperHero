{
  "cells": [
    {
      "cell_type": "markdown",
      "metadata": {
        "id": "view-in-github",
        "colab_type": "text"
      },
      "source": [
        "<a href=\"https://colab.research.google.com/github/CooperJB710/SQL-Lite--SuperHero/blob/main/python/superhero_assignment.ipynb\" target=\"_parent\"><img src=\"https://colab.research.google.com/assets/colab-badge.svg\" alt=\"Open In Colab\"/></a>"
      ]
    },
    {
      "cell_type": "markdown",
      "metadata": {
        "id": "5fa8dcf6"
      },
      "source": [
        "# Superhero Database Assignment (SQLite & Google Colab)\n",
        "\n",
        "## Objective\n",
        "In this assignment, you will design and implement a **Superhero Database** using SQLite in Google Colab. This database will store superheroes, villains, and their battles. You will write SQL queries to analyze battle outcomes and relationships between heroes and villains.\n",
        "\n",
        "### Group Size:\n",
        "- 2 to 3 students per group.\n",
        "\n",
        "### Tools Required:\n",
        "- **Google Colab**\n",
        "- **SQLite (built into Python)**\n",
        "- **CSV files (provided for import)**"
      ]
    },
    {
      "cell_type": "markdown",
      "metadata": {
        "id": "5535e625"
      },
      "source": [
        "## Step 1: Setting Up Your SQLite Database\n",
        "\n",
        "### Tasks:\n",
        "1. Initialize SQLite in Google Colab.\n",
        "2. Create a database named `superhero_db.sqlite`.\n",
        "3. Define the database schema, ensuring it includes the following tables:\n",
        "   - `heroes`: Stores superhero names, powers, and teams.\n",
        "   - `villains`: Stores villains and their evil plans.\n",
        "   - `battles`: Tracks battles between heroes and villains, including the outcome.\n",
        "4. Implement primary keys and foreign keys where appropriate.\n",
        "\n",
        "✅ **Checkpoint:** Ensure that the database and tables have been successfully created."
      ]
    },
    {
      "cell_type": "code",
      "source": [
        "import sqlite3\n",
        "\n",
        "# Create a connection to (or create) the SQLite database file\n",
        "conn = sqlite3.connect('superhero_db.sqlite')\n",
        "cursor = conn.cursor()\n",
        "\n",
        "print(\"Database connection established!\")"
      ],
      "metadata": {
        "id": "4oD6J09T50C_"
      },
      "execution_count": null,
      "outputs": []
    },
    {
      "cell_type": "markdown",
      "metadata": {
        "id": "154b3c3a"
      },
      "source": [
        "## Step 2: Import Data from CSV Files\n",
        "\n",
        "### Tasks:\n",
        "1. Download the provided CSV files.\n",
        "2. Upload them to Google Colab.\n",
        "3. Write a script to import data from these files into the appropriate tables.\n",
        "4. Verify that the data has been successfully inserted.\n",
        "\n",
        "✅ **Checkpoint:** Ensure that each table contains the expected data from the CSV files."
      ]
    },
    {
      "cell_type": "code",
      "source": [
        "import pandas as pd\n",
        "\n",
        "# 1. Drop tables if they already exist (prevents unique constraint or leftover data on repeated runs)\n",
        "cursor.execute(\"DROP TABLE IF EXISTS battles;\")\n",
        "cursor.execute(\"DROP TABLE IF EXISTS heroes;\")\n",
        "cursor.execute(\"DROP TABLE IF EXISTS villains;\")\n",
        "conn.commit()\n",
        "\n",
        "# 2. Create the heroes, villains, and battles tables\n",
        "cursor.execute(\"\"\"\n",
        "CREATE TABLE IF NOT EXISTS heroes (\n",
        "    hero_id INTEGER PRIMARY KEY AUTOINCREMENT,\n",
        "    name TEXT NOT NULL,\n",
        "    power TEXT,\n",
        "    team TEXT\n",
        ");\n",
        "\"\"\")\n",
        "\n",
        "cursor.execute(\"\"\"\n",
        "CREATE TABLE IF NOT EXISTS villains (\n",
        "    villain_id INTEGER PRIMARY KEY AUTOINCREMENT,\n",
        "    name TEXT NOT NULL,\n",
        "    evil_plan TEXT\n",
        ");\n",
        "\"\"\")\n",
        "\n",
        "cursor.execute(\"\"\"\n",
        "CREATE TABLE IF NOT EXISTS battles (\n",
        "    battle_id INTEGER PRIMARY KEY AUTOINCREMENT,\n",
        "    hero_id INTEGER NOT NULL,\n",
        "    villain_id INTEGER NOT NULL,\n",
        "    outcome TEXT CHECK(outcome IN ('hero_won','villain_won','draw')),\n",
        "    FOREIGN KEY (hero_id) REFERENCES heroes(hero_id),\n",
        "    FOREIGN KEY (villain_id) REFERENCES villains(villain_id)\n",
        ");\n",
        "\"\"\")\n",
        "\n",
        "conn.commit()\n",
        "\n",
        "# 3. Read & import data from CSV files\n",
        "\n",
        "# --- HEROES ---\n",
        "heroes_df = pd.read_csv('heroes.csv')\n",
        "\n",
        "# If your CSV has an 'id' column but your table expects 'hero_id', rename it\n",
        "if 'id' in heroes_df.columns:\n",
        "    heroes_df.rename(columns={'id': 'hero_id'}, inplace=True)\n",
        "\n",
        "# Insert heroes data\n",
        "heroes_df.to_sql('heroes', conn, if_exists='append', index=False)\n",
        "\n",
        "# --- VILLAINS ---\n",
        "villains_df = pd.read_csv('villains.csv')\n",
        "\n",
        "# If your CSV has 'id', rename it to 'villain_id' if needed\n",
        "if 'id' in villains_df.columns:\n",
        "    villains_df.rename(columns={'id': 'villain_id'}, inplace=True)\n",
        "\n",
        "# Insert villains data\n",
        "villains_df.to_sql('villains', conn, if_exists='append', index=False)\n",
        "\n",
        "# --- BATTLES ---\n",
        "battles_df = pd.read_csv('battles.csv')\n",
        "\n",
        "# If your CSV has an extra 'id' column or something that doesn't match the schema, drop it\n",
        "if 'id' in battles_df.columns:\n",
        "    battles_df.drop(columns=['id'], inplace=True)\n",
        "\n",
        "# OPTIONAL: Strip spaces in 'outcome' to avoid hidden whitespace issues\n",
        "battles_df['outcome'] = battles_df['outcome'].astype(str).str.strip()\n",
        "\n",
        "# Filter out any invalid outcomes to avoid CHECK constraint errors\n",
        "allowed_outcomes = ['hero_won', 'villain_won', 'draw']\n",
        "battles_df = battles_df[battles_df['outcome'].isin(allowed_outcomes)]\n",
        "\n",
        "# Insert battles data\n",
        "battles_df.to_sql('battles', conn, if_exists='append', index=False)\n",
        "\n",
        "print(\"Heroes, villains, and battles data loaded successfully!\")\n",
        "\n",
        "# (Optional) Keep the connection open for querying below.\n",
        "# If you want to close it and re-open for queries, uncomment:\n",
        "# conn.close()"
      ],
      "metadata": {
        "id": "8anF6U1z5-8d"
      },
      "execution_count": null,
      "outputs": []
    },
    {
      "cell_type": "markdown",
      "metadata": {
        "id": "33548d9f"
      },
      "source": [
        "## Step 3: Querying the Database\n",
        "\n",
        "### Tasks:\n",
        "Write SQL queries to answer the following:\n",
        "1. Retrieve all superheroes and their powers.\n",
        "2. Find all battles where the hero won.\n",
        "3. List all villains and their evil plans.\n",
        "4. Determine which superhero has fought the most battles.\n",
        "\n",
        "✅ **Checkpoint:** Ensure that all queries return meaningful results from the database."
      ]
    },
    {
      "cell_type": "code",
      "source": [
        "# 1. Retrieve all superheroes and their powers\n",
        "query_all_heroes = \"\"\"\n",
        "SELECT name, power\n",
        "FROM heroes;\n",
        "\"\"\"\n",
        "cursor.execute(query_all_heroes)\n",
        "results = cursor.fetchall()\n",
        "\n",
        "print(\"All Heroes and Their Powers:\")\n",
        "if results:\n",
        "    for row in results:\n",
        "        print(row)\n",
        "else:\n",
        "    print(\"No heroes found.\")"
      ],
      "metadata": {
        "id": "uBGiL1ES6OOG"
      },
      "execution_count": null,
      "outputs": []
    },
    {
      "cell_type": "code",
      "source": [
        "# 2. Find all battles where the hero won\n",
        "query_hero_wins = \"\"\"\n",
        "SELECT b.battle_id,\n",
        "       h.name AS hero,\n",
        "       v.name AS villain,\n",
        "       b.outcome\n",
        "FROM battles b\n",
        "JOIN heroes h ON b.hero_id = h.hero_id\n",
        "JOIN villains v ON b.villain_id = v.villain_id\n",
        "WHERE b.outcome = 'hero_won';\n",
        "\"\"\"\n",
        "cursor.execute(query_hero_wins)\n",
        "results = cursor.fetchall()\n",
        "\n",
        "print(\"\\nBattles Where the Hero Won:\")\n",
        "if results:\n",
        "    for row in results:\n",
        "        print(row)\n",
        "else:\n",
        "    print(\"No battles found where hero won.\")"
      ],
      "metadata": {
        "id": "wYQyVcLe6R-X"
      },
      "execution_count": null,
      "outputs": []
    },
    {
      "cell_type": "code",
      "source": [
        "# 3. List all villains and their evil plans\n",
        "query_villains = \"\"\"\n",
        "SELECT name, evil_plan\n",
        "FROM villains;\n",
        "\"\"\"\n",
        "cursor.execute(query_villains)\n",
        "results = cursor.fetchall()\n",
        "\n",
        "print(\"\\nVillains and Their Evil Plans:\")\n",
        "if results:\n",
        "    for row in results:\n",
        "        print(row)\n",
        "else:\n",
        "    print(\"No villains found.\")"
      ],
      "metadata": {
        "id": "8WCfgIi-6Rry"
      },
      "execution_count": null,
      "outputs": []
    },
    {
      "cell_type": "code",
      "source": [
        "# 4. Determine which superhero has fought the most battles\n",
        "query_most_battles = \"\"\"\n",
        "SELECT h.name,\n",
        "       COUNT(*) AS total_battles\n",
        "FROM battles b\n",
        "JOIN heroes h ON b.hero_id = h.hero_id\n",
        "GROUP BY h.name\n",
        "ORDER BY total_battles DESC\n",
        "LIMIT 1;\n",
        "\"\"\"\n",
        "cursor.execute(query_most_battles)\n",
        "result = cursor.fetchone()\n",
        "\n",
        "print(\"\\nSuperhero with the Most Battles:\")\n",
        "if result is not None:\n",
        "    print(f\"{result[0]} with {result[1]} battles.\")\n",
        "else:\n",
        "    print(\"No battles found or no data in the table.\")"
      ],
      "metadata": {
        "id": "Xg7wxe1R6YrR"
      },
      "execution_count": null,
      "outputs": []
    },
    {
      "cell_type": "markdown",
      "metadata": {
        "id": "de8bda94"
      },
      "source": [
        "## Step 4: Add a Custom Feature\n",
        "\n",
        "### Tasks:\n",
        "1. Design and implement an additional table related to superheroes or villains.\n",
        "2. Populate it with data.\n",
        "3. Write at least one query to retrieve meaningful insights from the new table.\n",
        "\n",
        "**Examples of Custom Features:**\n",
        "- Sidekicks for superheroes\n",
        "- Villain hideouts\n",
        "- Battle locations\n",
        "- Superhero equipment\n",
        "\n",
        "✅ **Checkpoint:** Ensure that the new table and queries function correctly."
      ]
    },
    {
      "cell_type": "code",
      "source": [
        "# Drop the table if it already exists (for testing purposes)\n",
        "cursor.execute(\"DROP TABLE IF EXISTS sidekicks;\")\n",
        "conn.commit()\n",
        "\n",
        "create_sidekicks_table = \"\"\"\n",
        "CREATE TABLE IF NOT EXISTS sidekicks (\n",
        "    sidekick_id INTEGER PRIMARY KEY AUTOINCREMENT,\n",
        "    sidekick_name TEXT NOT NULL,\n",
        "    hero_id INTEGER,\n",
        "    FOREIGN KEY (hero_id) REFERENCES heroes(hero_id)\n",
        ");\n",
        "\"\"\"\n",
        "\n",
        "cursor.execute(create_sidekicks_table)\n",
        "conn.commit()\n",
        "\n",
        "print(\"Custom table 'sidekicks' created successfully!\")"
      ],
      "metadata": {
        "id": "VSaFp0Lt6dBW"
      },
      "execution_count": null,
      "outputs": []
    },
    {
      "cell_type": "code",
      "source": [
        "# Insert some example sidekick data manually (or from another CSV)\n",
        "sidekicks_data = [\n",
        "    (\"Robin\", 2),   # Suppose hero_id=2 is Batman\n",
        "    (\"Falcon\", 3),  # Suppose hero_id=3 is Iron Man (just for example)\n",
        "    (\"Kid Flash\", 1) # Suppose hero_id=1 is Superman\n",
        "]\n",
        "\n",
        "insert_sidekick = \"\"\"\n",
        "INSERT INTO sidekicks (sidekick_name, hero_id)\n",
        "VALUES (?, ?);\n",
        "\"\"\"\n",
        "cursor.executemany(insert_sidekick, sidekicks_data)\n",
        "conn.commit()\n",
        "\n",
        "print(\"Sidekicks inserted into table successfully!\")"
      ],
      "metadata": {
        "id": "CdTd2sbX6c0O"
      },
      "execution_count": null,
      "outputs": []
    },
    {
      "cell_type": "markdown",
      "metadata": {
        "id": "9bf43fe6"
      },
      "source": [
        "## Bonus Challenge (+5 Points)\n",
        "\n",
        "### Tasks:\n",
        "1. Enhance your project by adding a visual or interactive component.\n",
        "\n",
        "**Options:**\n",
        "- Visualize battles using Matplotlib (e.g., a bar chart showing how many battles each superhero has fought).\n",
        "- Make it interactive (e.g., allow users to input a superhero name and display their battles).\n",
        "\n",
        "✅ **Checkpoint:** If attempting the bonus, ensure that your visualization or interactive component works correctly."
      ]
    },
    {
      "cell_type": "markdown",
      "metadata": {
        "id": "89f56c05"
      },
      "source": [
        "## Submission Guidelines\n",
        "\n",
        "Each group must submit a **Google Colab Notebook (.ipynb)** containing:\n",
        "- ✅ **Database schema (DDL)**\n",
        "- ✅ **CSV imports & data insertion (DML)**\n",
        "- ✅ **SQL queries & results**\n",
        "- ✅ **Custom feature (bonus if applicable)**"
      ]
    },
    {
      "cell_type": "markdown",
      "metadata": {
        "id": "61477c9b"
      },
      "source": [
        "## Grading Criteria (Total: 25 Points)\n",
        "\n",
        "| Section                 | Points |\n",
        "|-------------------------|--------|\n",
        "| Database Setup          | 5      |\n",
        "| Data Importing         | 10     |\n",
        "| Querying the Data      | 10     |\n",
        "| Extra Feature          | 5      |\n",
        "| Bonus Challenge (Optional) | +5  |"
      ]
    },
    {
      "cell_type": "markdown",
      "metadata": {
        "id": "92bf6839"
      },
      "source": [
        "### Final Notes:\n",
        "- Be **creative** when designing superheroes and villains.\n",
        "- **Comment your code** to explain its functionality.\n",
        "- **Have fun** building your superhero universe!"
      ]
    }
  ],
  "metadata": {
    "colab": {
      "provenance": [],
      "include_colab_link": true
    },
    "language_info": {
      "name": "python"
    },
    "kernelspec": {
      "name": "python3",
      "display_name": "Python 3"
    }
  },
  "nbformat": 4,
  "nbformat_minor": 5
}
