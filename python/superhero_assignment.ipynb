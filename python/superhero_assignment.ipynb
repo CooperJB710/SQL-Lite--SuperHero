{
  "cells": [
    {
      "cell_type": "markdown",
      "metadata": {
        "id": "view-in-github",
        "colab_type": "text"
      },
      "source": [
        "<a href=\"https://colab.research.google.com/github/CooperJB710/SQL-Lite--SuperHero/blob/main/python/superhero_assignment.ipynb\" target=\"_parent\"><img src=\"https://colab.research.google.com/assets/colab-badge.svg\" alt=\"Open In Colab\"/></a>"
      ]
    },
    {
      "cell_type": "markdown",
      "id": "5fa8dcf6",
      "metadata": {
        "id": "5fa8dcf6"
      },
      "source": [
        "# Superhero Database Assignment (SQLite & Google Colab)\n",
        "\n",
        "## Objective\n",
        "In this assignment, you will design and implement a **Superhero Database** using SQLite in Google Colab. This database will store superheroes, villains, and their battles. You will write SQL queries to analyze battle outcomes and relationships between heroes and villains.\n",
        "\n",
        "### Group Size:\n",
        "- 2 to 3 students per group.\n",
        "\n",
        "### Tools Required:\n",
        "- **Google Colab**\n",
        "- **SQLite (built into Python)**\n",
        "- **CSV files (provided for import)**"
      ]
    },
    {
      "cell_type": "markdown",
      "id": "5535e625",
      "metadata": {
        "id": "5535e625"
      },
      "source": [
        "## Step 1: Setting Up Your SQLite Database\n",
        "\n",
        "### Tasks:\n",
        "1. Initialize SQLite in Google Colab.\n",
        "2. Create a database named `superhero_db.sqlite`.\n",
        "3. Define the database schema, ensuring it includes the following tables:\n",
        "   - `heroes`: Stores superhero names, powers, and teams.\n",
        "   - `villains`: Stores villains and their evil plans.\n",
        "   - `battles`: Tracks battles between heroes and villains, including the outcome.\n",
        "4. Implement primary keys and foreign keys where appropriate.\n",
        "\n",
        "✅ **Checkpoint:** Ensure that the database and tables have been successfully created."
      ]
    },
    {
      "cell_type": "code",
      "source": [
        "import sqlite3\n",
        "\n",
        "# Connect to SQLite database (it will create a new one if it doesn’t exist)\n",
        "conn = sqlite3.connect(\"superhero_db.sqlite\")\n",
        "cursor = conn.cursor()\n",
        "\n",
        "# Creating the heroes table\n",
        "cursor.execute(\"\"\"\n",
        "CREATE TABLE IF NOT EXISTS heroes (\n",
        "    hero_id INTEGER PRIMARY KEY AUTOINCREMENT,\n",
        "    name TEXT UNIQUE NOT NULL,\n",
        "    powers TEXT,\n",
        "    team TEXT\n",
        ");\n",
        "\"\"\")\n",
        "\n",
        "# Creating the villains table\n",
        "cursor.execute(\"\"\"\n",
        "CREATE TABLE IF NOT EXISTS villains (\n",
        "    villain_id INTEGER PRIMARY KEY AUTOINCREMENT,\n",
        "    name TEXT UNIQUE NOT NULL,\n",
        "    evil_plan TEXT\n",
        ");\n",
        "\"\"\")\n",
        "\n",
        "# Creating the battles table\n",
        "cursor.execute(\"\"\"\n",
        "CREATE TABLE IF NOT EXISTS battles (\n",
        "    battle_id INTEGER PRIMARY KEY AUTOINCREMENT,\n",
        "    hero_id INTEGER,\n",
        "    villain_id INTEGER,\n",
        "    outcome TEXT CHECK(outcome IN ('Hero Wins', 'Villain Wins')),\n",
        "    FOREIGN KEY(hero_id) REFERENCES heroes(hero_id),\n",
        "    FOREIGN KEY(villain_id) REFERENCES villains(villain_id)\n",
        ");\n",
        "\"\"\")\n",
        "\n",
        "conn.commit()\n",
        "print(\"Database and tables created successfully!\")"
      ],
      "metadata": {
        "colab": {
          "base_uri": "https://localhost:8080/"
        },
        "id": "1cQeZJEz_rVi",
        "outputId": "e1fb6824-59bf-4c4e-a3db-97ae377150db"
      },
      "id": "1cQeZJEz_rVi",
      "execution_count": 33,
      "outputs": [
        {
          "output_type": "stream",
          "name": "stdout",
          "text": [
            "Database and tables created successfully!\n"
          ]
        }
      ]
    },
    {
      "cell_type": "markdown",
      "id": "154b3c3a",
      "metadata": {
        "id": "154b3c3a"
      },
      "source": [
        "## Step 2: Import Data from CSV Files\n",
        "\n",
        "### Tasks:\n",
        "1. Download the provided CSV files.\n",
        "2. Upload them to Google Colab.\n",
        "3. Write a script to import data from these files into the appropriate tables.\n",
        "4. Verify that the data has been successfully inserted.\n",
        "\n",
        "✅ **Checkpoint:** Ensure that each table contains the expected data from the CSV files."
      ]
    },
    {
      "cell_type": "code",
      "source": [
        "import pandas as pd\n",
        "\n",
        "# Load the CSV files\n",
        "heroes_df = pd.read_csv(\"/content/heroes.csv\")\n",
        "villains_df = pd.read_csv(\"/content/villains.csv\")\n",
        "battles_df = pd.read_csv(\"/content/battles.csv\")\n",
        "\n",
        "# Ensure 'id' column in CSV matches 'hero_id' in database\n",
        "if \"id\" in heroes_df.columns:\n",
        "    heroes_df.rename(columns={\"id\": \"hero_id\"}, inplace=True)\n",
        "# Insert data into tables, replacing existing records to avoid duplicates\n",
        "heroes_df.to_sql(\"heroes\", conn, if_exists=\"replace\", index=False)\n",
        "# Ensure 'id' column in CSV matches 'villain_id' in database\n",
        "if \"id\" in villains_df.columns:\n",
        "    villains_df.rename(columns={\"id\": \"villain_id\"}, inplace=True)\n",
        "villains_df.to_sql(\"villains\", conn, if_exists=\"replace\", index=False)\n",
        "# Ensure 'id' column in CSV matches 'battle_id' in database\n",
        "if \"id\" in battles_df.columns:\n",
        "    battles_df.rename(columns={\"id\": \"battle_id\"}, inplace=True)\n",
        "battles_df.to_sql(\"battles\", conn, if_exists=\"replace\", index=False)\n",
        "\n",
        "print(\"✅ Data imported successfully (without duplicates)!\")"
      ],
      "metadata": {
        "colab": {
          "base_uri": "https://localhost:8080/"
        },
        "id": "0MjNb4Im_vI8",
        "outputId": "b96a0854-0702-452b-e049-47891abf2f87"
      },
      "id": "0MjNb4Im_vI8",
      "execution_count": 60,
      "outputs": [
        {
          "output_type": "stream",
          "name": "stdout",
          "text": [
            "✅ Data imported successfully (without duplicates)!\n"
          ]
        }
      ]
    },
    {
      "cell_type": "code",
      "source": [
        "# Verify inserted data\n",
        "print(pd.read_sql(\"SELECT * FROM heroes;\", conn))\n",
        "print(pd.read_sql(\"SELECT * FROM villains;\", conn))\n",
        "print(pd.read_sql(\"SELECT * FROM battles;\", conn))"
      ],
      "metadata": {
        "colab": {
          "base_uri": "https://localhost:8080/"
        },
        "id": "MZRZ5xyi_x-P",
        "outputId": "19bfb7a5-fb52-40b7-99f4-7ab981b4c04c"
      },
      "id": "MZRZ5xyi_x-P",
      "execution_count": 61,
      "outputs": [
        {
          "output_type": "stream",
          "name": "stdout",
          "text": [
            "   hero_id            name               power            team\n",
            "0        1      Spider-Man        Web-slinging        Avengers\n",
            "1        2        Iron Man       Powered Armor        Avengers\n",
            "2        3          Batman    Genius Detective  Justice League\n",
            "3        4        Superman      Super Strength  Justice League\n",
            "4        5            Thor      God of Thunder        Avengers\n",
            "5        6    Wonder Woman  Amazonian Strength  Justice League\n",
            "6        7   Black Panther    Enhanced Agility        Avengers\n",
            "7        8       The Flash         Super Speed  Justice League\n",
            "8        9            Hulk      Super Strength        Avengers\n",
            "9       10  Doctor Strange         Mystic Arts        Avengers\n",
            "   villain_id          name                           evil_plan\n",
            "0           1  Green Goblin                  Terrorize New York\n",
            "1           2        Thanos         Collect all Infinity Stones\n",
            "2           3         Joker              Spread chaos in Gotham\n",
            "3           4    Lex Luthor                     Defeat Superman\n",
            "4           5          Loki  Trick humanity into worshiping him\n",
            "5           6        Ultron                 AI world domination\n",
            "6           7      Darkseid                Control the universe\n",
            "7           8         Venom                  Consume Spider-Man\n",
            "8           9       Magneto                    Mutant supremacy\n",
            "9          10     Red Skull                        Revive Hydra\n",
            "    battle_id  hero_id  villain_id       outcome\n",
            "0           1        1          10  Villain Wins\n",
            "1           2        9           3     Hero Wins\n",
            "2           3        8           1          Draw\n",
            "3           4        5           4  Villain Wins\n",
            "4           5        1           7     Hero Wins\n",
            "5           6        2           8  Villain Wins\n",
            "6           7        9           8     Hero Wins\n",
            "7           8        3           2     Hero Wins\n",
            "8           9        7           5     Hero Wins\n",
            "9          10        3           1          Draw\n",
            "10         11        1           8  Villain Wins\n",
            "11         12        2           1          Draw\n",
            "12         13        8           9     Hero Wins\n",
            "13         14        8           1          Draw\n",
            "14         15        6          10          Draw\n",
            "15         16        1           1  Villain Wins\n",
            "16         17        8           3          Draw\n",
            "17         18        6           3  Villain Wins\n",
            "18         19        4           8  Villain Wins\n",
            "19         20        3           4     Hero Wins\n",
            "20         21        8           1          Draw\n",
            "21         22        4           9          Draw\n",
            "22         23        3           9          Draw\n",
            "23         24        8           9  Villain Wins\n",
            "24         25        2           5          Draw\n",
            "25         26        3           7          Draw\n",
            "26         27       10           3          Draw\n",
            "27         28        3           8          Draw\n",
            "28         29        3           5     Hero Wins\n",
            "29         30        5           5     Hero Wins\n"
          ]
        }
      ]
    },
    {
      "cell_type": "markdown",
      "id": "33548d9f",
      "metadata": {
        "id": "33548d9f"
      },
      "source": [
        "## Step 3: Querying the Database\n",
        "\n",
        "### Tasks:\n",
        "Write SQL queries to answer the following:\n",
        "1. Retrieve all superheroes and their powers.\n",
        "2. Find all battles where the hero won.\n",
        "3. List all villains and their evil plans.\n",
        "4. Determine which superhero has fought the most battles.\n",
        "\n",
        "✅ **Checkpoint:** Ensure that all queries return meaningful results from the database."
      ]
    },
    {
      "cell_type": "code",
      "source": [
        "query1 = \"SELECT name, power FROM heroes;\"\n",
        "print(pd.read_sql(query1, conn))"
      ],
      "metadata": {
        "colab": {
          "base_uri": "https://localhost:8080/"
        },
        "id": "wsPFWN5E_2Dq",
        "outputId": "4ec61956-5d94-4707-d8ad-2ed60b6a89e8"
      },
      "id": "wsPFWN5E_2Dq",
      "execution_count": 62,
      "outputs": [
        {
          "output_type": "stream",
          "name": "stdout",
          "text": [
            "             name               power\n",
            "0      Spider-Man        Web-slinging\n",
            "1        Iron Man       Powered Armor\n",
            "2          Batman    Genius Detective\n",
            "3        Superman      Super Strength\n",
            "4            Thor      God of Thunder\n",
            "5    Wonder Woman  Amazonian Strength\n",
            "6   Black Panther    Enhanced Agility\n",
            "7       The Flash         Super Speed\n",
            "8            Hulk      Super Strength\n",
            "9  Doctor Strange         Mystic Arts\n"
          ]
        }
      ]
    },
    {
      "cell_type": "code",
      "source": [
        "query2 = \"\"\"\n",
        "SELECT heroes.name AS hero, villains.name AS villain, battles.outcome\n",
        "FROM battles\n",
        "JOIN heroes ON battles.hero_id = heroes.hero_id\n",
        "JOIN villains ON battles.villain_id = villains.villain_id  -- Fixed typo\n",
        "WHERE battles.outcome = 'Hero Wins';\n",
        "\"\"\"\n",
        "print(pd.read_sql(query2, conn))\n"
      ],
      "metadata": {
        "colab": {
          "base_uri": "https://localhost:8080/"
        },
        "id": "8PCDaZjy_2_z",
        "outputId": "54c312cf-429a-4b93-e79b-9d9cea1992e8"
      },
      "id": "8PCDaZjy_2_z",
      "execution_count": 63,
      "outputs": [
        {
          "output_type": "stream",
          "name": "stdout",
          "text": [
            "            hero     villain    outcome\n",
            "0           Hulk       Joker  Hero Wins\n",
            "1     Spider-Man    Darkseid  Hero Wins\n",
            "2           Hulk       Venom  Hero Wins\n",
            "3         Batman      Thanos  Hero Wins\n",
            "4  Black Panther        Loki  Hero Wins\n",
            "5      The Flash     Magneto  Hero Wins\n",
            "6         Batman  Lex Luthor  Hero Wins\n",
            "7         Batman        Loki  Hero Wins\n",
            "8           Thor        Loki  Hero Wins\n"
          ]
        }
      ]
    },
    {
      "cell_type": "code",
      "source": [
        "query3 = \"SELECT name, evil_plan FROM villains;\"\n",
        "print(pd.read_sql(query3, conn))"
      ],
      "metadata": {
        "colab": {
          "base_uri": "https://localhost:8080/"
        },
        "id": "5plK6tdh_7o6",
        "outputId": "11d3b638-50b3-4c1f-a0d0-031872fe2a78"
      },
      "id": "5plK6tdh_7o6",
      "execution_count": 64,
      "outputs": [
        {
          "output_type": "stream",
          "name": "stdout",
          "text": [
            "           name                           evil_plan\n",
            "0  Green Goblin                  Terrorize New York\n",
            "1        Thanos         Collect all Infinity Stones\n",
            "2         Joker              Spread chaos in Gotham\n",
            "3    Lex Luthor                     Defeat Superman\n",
            "4          Loki  Trick humanity into worshiping him\n",
            "5        Ultron                 AI world domination\n",
            "6      Darkseid                Control the universe\n",
            "7         Venom                  Consume Spider-Man\n",
            "8       Magneto                    Mutant supremacy\n",
            "9     Red Skull                        Revive Hydra\n"
          ]
        }
      ]
    },
    {
      "cell_type": "code",
      "source": [
        "query4 = \"\"\"\n",
        "SELECT heroes.name, COUNT(battles.battle_id) AS battle_count\n",
        "FROM battles\n",
        "JOIN heroes ON battles.hero_id = heroes.hero_id\n",
        "GROUP BY heroes.name\n",
        "ORDER BY battle_count DESC\n",
        "LIMIT 1;\n",
        "\"\"\"\n",
        "print(pd.read_sql(query4, conn))"
      ],
      "metadata": {
        "colab": {
          "base_uri": "https://localhost:8080/"
        },
        "id": "hO9ndfbi_9pc",
        "outputId": "10c2ba41-6cda-495b-8d3d-5a98a94e5c2a"
      },
      "id": "hO9ndfbi_9pc",
      "execution_count": 65,
      "outputs": [
        {
          "output_type": "stream",
          "name": "stdout",
          "text": [
            "     name  battle_count\n",
            "0  Batman             7\n"
          ]
        }
      ]
    },
    {
      "cell_type": "markdown",
      "id": "de8bda94",
      "metadata": {
        "id": "de8bda94"
      },
      "source": [
        "## Step 4: Add a Custom Feature\n",
        "\n",
        "### Tasks:\n",
        "1. Design and implement an additional table related to superheroes or villains.\n",
        "2. Populate it with data.\n",
        "3. Write at least one query to retrieve meaningful insights from the new table.\n",
        "\n",
        "**Examples of Custom Features:**\n",
        "- Sidekicks for superheroes\n",
        "- Villain hideouts\n",
        "- Battle locations\n",
        "- Superhero equipment\n",
        "\n",
        "✅ **Checkpoint:** Ensure that the new table and queries function correctly."
      ]
    },
    {
      "cell_type": "code",
      "source": [
        "cursor.execute(\"\"\"\n",
        "CREATE TABLE IF NOT EXISTS sidekicks (\n",
        "    sidekick_id INTEGER PRIMARY KEY AUTOINCREMENT,\n",
        "    hero_id INTEGER,\n",
        "    sidekick_name TEXT UNIQUE NOT NULL,\n",
        "    FOREIGN KEY(hero_id) REFERENCES heroes(hero_id)\n",
        ");\n",
        "\"\"\")\n",
        "\n",
        "# Insert sample sidekick data\n",
        "cursor.executemany(\"INSERT INTO sidekicks (hero_id, sidekick_name) VALUES (?, ?);\", [\n",
        "    (1, \"Robin\"),\n",
        "    (2, \"Bucky Barnes\"),\n",
        "    (3, \"War Machine\")\n",
        "])\n",
        "conn.commit()\n",
        "print(\"Sidekicks table created and populated successfully!\")"
      ],
      "metadata": {
        "colab": {
          "base_uri": "https://localhost:8080/"
        },
        "id": "LaECCzquAECD",
        "outputId": "c672ea54-f566-4330-f0ab-6585e16175ba"
      },
      "id": "LaECCzquAECD",
      "execution_count": 66,
      "outputs": [
        {
          "output_type": "stream",
          "name": "stdout",
          "text": [
            "Sidekicks table created and populated successfully!\n"
          ]
        }
      ]
    },
    {
      "cell_type": "code",
      "source": [
        "query5 = \"\"\"\n",
        "SELECT heroes.name AS hero, sidekicks.sidekick_name\n",
        "FROM sidekicks\n",
        "JOIN heroes ON sidekicks.hero_id = heroes.hero_id;\n",
        "\"\"\"\n",
        "print(pd.read_sql(query5, conn))"
      ],
      "metadata": {
        "colab": {
          "base_uri": "https://localhost:8080/"
        },
        "id": "culwsuCOAF4q",
        "outputId": "07a85a61-b21c-4197-8eb9-e96909a17dbd"
      },
      "id": "culwsuCOAF4q",
      "execution_count": 67,
      "outputs": [
        {
          "output_type": "stream",
          "name": "stdout",
          "text": [
            "          hero sidekick_name\n",
            "0     Iron Man         Robin\n",
            "1       Batman        Falcon\n",
            "2   Spider-Man     Kid Flash\n",
            "3     Iron Man         Robin\n",
            "4       Batman        Falcon\n",
            "5   Spider-Man     Kid Flash\n",
            "6   Spider-Man         Robin\n",
            "7     Iron Man  Bucky Barnes\n",
            "8       Batman   War Machine\n",
            "9   Spider-Man         Robin\n",
            "10    Iron Man  Bucky Barnes\n",
            "11      Batman   War Machine\n",
            "12  Spider-Man         Robin\n",
            "13    Iron Man  Bucky Barnes\n",
            "14      Batman   War Machine\n",
            "15  Spider-Man         Robin\n",
            "16    Iron Man  Bucky Barnes\n",
            "17      Batman   War Machine\n"
          ]
        }
      ]
    },
    {
      "cell_type": "markdown",
      "id": "9bf43fe6",
      "metadata": {
        "id": "9bf43fe6"
      },
      "source": [
        "## Bonus Challenge (+5 Points)\n",
        "\n",
        "### Tasks:\n",
        "1. Enhance your project by adding a visual or interactive component.\n",
        "\n",
        "**Options:**\n",
        "- Visualize battles using Matplotlib (e.g., a bar chart showing how many battles each superhero has fought).\n",
        "- Make it interactive (e.g., allow users to input a superhero name and display their battles).\n",
        "\n",
        "✅ **Checkpoint:** If attempting the bonus, ensure that your visualization or interactive component works correctly."
      ]
    },
    {
      "cell_type": "code",
      "source": [
        "import matplotlib.pyplot as plt\n",
        "\n",
        "# Query battle counts\n",
        "battle_data = pd.read_sql(\"\"\"\n",
        "SELECT heroes.name, COUNT(battles.battle_id) AS wins\n",
        "FROM battles\n",
        "JOIN heroes ON battles.hero_id = heroes.hero_id\n",
        "WHERE battles.outcome = 'Hero Wins'\n",
        "GROUP BY heroes.name;\n",
        "\"\"\", conn)\n",
        "\n",
        "# Plot\n",
        "plt.figure(figsize=(8, 5))\n",
        "plt.bar(battle_data['name'], battle_data['wins'], color='blue')\n",
        "plt.xlabel(\"Superheroes\")\n",
        "plt.ylabel(\"Number of Wins\")\n",
        "plt.title(\"Superhero Battle Wins\")\n",
        "plt.xticks(rotation=45)\n",
        "plt.show()"
      ],
      "metadata": {
        "colab": {
          "base_uri": "https://localhost:8080/",
          "height": 551
        },
        "id": "gIKrNw7BANlL",
        "outputId": "e5ee19af-e47d-4825-ff79-1467473f66f4"
      },
      "id": "gIKrNw7BANlL",
      "execution_count": 69,
      "outputs": [
        {
          "output_type": "display_data",
          "data": {
            "text/plain": [
              "<Figure size 800x500 with 1 Axes>"
            ],
            "image/png": "[encoded data removed]"
          },
          "metadata": {}
        }
      ]
    },
    {
      "cell_type": "markdown",
      "id": "89f56c05",
      "metadata": {
        "id": "89f56c05"
      },
      "source": [
        "## Submission Guidelines\n",
        "\n",
        "Each group must submit a **Google Colab Notebook (.ipynb)** containing:\n",
        "- ✅ **Database schema (DDL)**\n",
        "- ✅ **CSV imports & data insertion (DML)**\n",
        "- ✅ **SQL queries & results**\n",
        "- ✅ **Custom feature (bonus if applicable)**"
      ]
    },
    {
      "cell_type": "markdown",
      "id": "61477c9b",
      "metadata": {
        "id": "61477c9b"
      },
      "source": [
        "## Grading Criteria (Total: 25 Points)\n",
        "\n",
        "| Section                 | Points |\n",
        "|-------------------------|--------|\n",
        "| Database Setup          | 5      |\n",
        "| Data Importing         | 10     |\n",
        "| Querying the Data      | 10     |\n",
        "| Extra Feature          | 5      |\n",
        "| Bonus Challenge (Optional) | +5  |"
      ]
    },
    {
      "cell_type": "markdown",
      "id": "92bf6839",
      "metadata": {
        "id": "92bf6839"
      },
      "source": [
        "### Final Notes:\n",
        "- Be **creative** when designing superheroes and villains.\n",
        "- **Comment your code** to explain its functionality.\n",
        "- **Have fun** building your superhero universe!"
      ]
    }
  ],
  "metadata": {
    "colab": {
      "provenance": [],
      "include_colab_link": true
    },
    "language_info": {
      "name": "python"
    },
    "kernelspec": {
      "name": "python3",
      "display_name": "Python 3"
    }
  },
  "nbformat": 4,
  "nbformat_minor": 5
}