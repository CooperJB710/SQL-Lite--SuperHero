{
  "cells": [
    {
      "cell_type": "markdown",
      "metadata": {
        "id": "view-in-github",
        "colab_type": "text"
      },
      "source": [
        "<a href=\"https://colab.research.google.com/github/CooperJB710/SQL-Lite--SuperHero/blob/main/python/superhero_assignment.ipynb\" target=\"_parent\"><img src=\"https://colab.research.google.com/assets/colab-badge.svg\" alt=\"Open In Colab\"/></a>"
      ]
    },
    {
      "cell_type": "markdown",
      "id": "5fa8dcf6",
      "metadata": {
        "id": "5fa8dcf6"
      },
      "source": [
        "# Superhero Database Assignment (SQLite & Google Colab)\n",
        "\n",
        "## Objective\n",
        "In this assignment, you will design and implement a **Superhero Database** using SQLite in Google Colab. This database will store superheroes, villains, and their battles. You will write SQL queries to analyze battle outcomes and relationships between heroes and villains.\n",
        "\n",
        "### Group Size:\n",
        "- 2 to 3 students per group.\n",
        "\n",
        "### Tools Required:\n",
        "- **Google Colab**\n",
        "- **SQLite (built into Python)**\n",
        "- **CSV files (provided for import)**"
      ]
    },
    {
      "cell_type": "markdown",
      "id": "5535e625",
      "metadata": {
        "id": "5535e625"
      },
      "source": [
        "## Step 1: Setting Up Your SQLite Database\n",
        "\n",
        "### Tasks:\n",
        "1. Initialize SQLite in Google Colab.\n",
        "2. Create a database named `superhero_db.sqlite`.\n",
        "3. Define the database schema, ensuring it includes the following tables:\n",
        "   - `heroes`: Stores superhero names, powers, and teams.\n",
        "   - `villains`: Stores villains and their evil plans.\n",
        "   - `battles`: Tracks battles between heroes and villains, including the outcome.\n",
        "4. Implement primary keys and foreign keys where appropriate.\n",
        "\n",
        "✅ **Checkpoint:** Ensure that the database and tables have been successfully created."
      ]
    },
    {
      "cell_type": "code",
      "source": [
        "import sqlite3\n",
        "\n",
        "# Connect to SQLite database (it will create a new one if it doesn’t exist)\n",
        "conn = sqlite3.connect(\"superhero_db.sqlite\")\n",
        "cursor = conn.cursor()\n",
        "\n",
        "# Creating the heroes table\n",
        "cursor.execute(\"\"\"\n",
        "CREATE TABLE IF NOT EXISTS heroes (\n",
        "    hero_id INTEGER PRIMARY KEY AUTOINCREMENT,\n",
        "    name TEXT UNIQUE NOT NULL,\n",
        "    powers TEXT,\n",
        "    team TEXT\n",
        ");\n",
        "\"\"\")\n",
        "\n",
        "# Creating the villains table\n",
        "cursor.execute(\"\"\"\n",
        "CREATE TABLE IF NOT EXISTS villains (\n",
        "    villain_id INTEGER PRIMARY KEY AUTOINCREMENT,\n",
        "    name TEXT UNIQUE NOT NULL,\n",
        "    evil_plan TEXT\n",
        ");\n",
        "\"\"\")\n",
        "\n",
        "# Creating the battles table\n",
        "cursor.execute(\"\"\"\n",
        "CREATE TABLE IF NOT EXISTS battles (\n",
        "    battle_id INTEGER PRIMARY KEY AUTOINCREMENT,\n",
        "    hero_id INTEGER,\n",
        "    villain_id INTEGER,\n",
        "    outcome TEXT CHECK(outcome IN ('Hero Wins', 'Villain Wins')),\n",
        "    FOREIGN KEY(hero_id) REFERENCES heroes(hero_id),\n",
        "    FOREIGN KEY(villain_id) REFERENCES villains(villain_id)\n",
        ");\n",
        "\"\"\")\n",
        "\n",
        "conn.commit()\n",
        "print(\"Database and tables created successfully!\")"
      ],
      "metadata": {
        "id": "1cQeZJEz_rVi",
        "outputId": "e1fb6824-59bf-4c4e-a3db-97ae377150db",
        "colab": {
          "base_uri": "https://localhost:8080/"
        }
      },
      "id": "1cQeZJEz_rVi",
      "execution_count": 33,
      "outputs": [
        {
          "output_type": "stream",
          "name": "stdout",
          "text": [
            "Database and tables created successfully!\n"
          ]
        }
      ]
    },
    {
      "cell_type": "markdown",
      "id": "154b3c3a",
      "metadata": {
        "id": "154b3c3a"
      },
      "source": [
        "## Step 2: Import Data from CSV Files\n",
        "\n",
        "### Tasks:\n",
        "1. Download the provided CSV files.\n",
        "2. Upload them to Google Colab.\n",
        "3. Write a script to import data from these files into the appropriate tables.\n",
        "4. Verify that the data has been successfully inserted.\n",
        "\n",
        "✅ **Checkpoint:** Ensure that each table contains the expected data from the CSV files."
      ]
    },
    {
      "cell_type": "code",
      "source": [
        "import pandas as pd\n",
        "\n",
        "# Load the CSV files\n",
        "heroes_df = pd.read_csv(\"/content/heroes.csv\")\n",
        "villains_df = pd.read_csv(\"/content/villains.csv\")\n",
        "battles_df = pd.read_csv(\"/content/battles.csv\")\n",
        "\n",
        "# Insert data into heroes table\n",
        "heroes_df.to_sql(\"heroes\", conn, if_exists=\"append\", index=False)\n",
        "\n",
        "# Insert data into villains table\n",
        "villains_df.to_sql(\"villains\", conn, if_exists=\"append\", index=False)\n",
        "\n",
        "# Insert data into battles table\n",
        "battles_df.to_sql(\"battles\", conn, if_exists=\"append\", index=False)\n",
        "\n",
        "print(\"Data imported successfully!\")"
      ],
      "metadata": {
        "id": "0MjNb4Im_vI8",
        "outputId": "f4189ab6-8fcf-4389-a1c6-1804cfa3e19e",
        "colab": {
          "base_uri": "https://localhost:8080/",
          "height": 356
        }
      },
      "id": "0MjNb4Im_vI8",
      "execution_count": 37,
      "outputs": [
        {
          "output_type": "error",
          "ename": "OperationalError",
          "evalue": "table heroes has no column named id",
          "traceback": [
            "\u001b[0;31m---------------------------------------------------------------------------\u001b[0m",
            "\u001b[0;31mOperationalError\u001b[0m                          Traceback (most recent call last)",
            "\u001b[0;32m<ipython-input-37-2c4919da97f9>\u001b[0m in \u001b[0;36m<cell line: 0>\u001b[0;34m()\u001b[0m\n\u001b[1;32m      7\u001b[0m \u001b[0;34m\u001b[0m\u001b[0m\n\u001b[1;32m      8\u001b[0m \u001b[0;31m# Insert data into heroes table\u001b[0m\u001b[0;34m\u001b[0m\u001b[0;34m\u001b[0m\u001b[0m\n\u001b[0;32m----> 9\u001b[0;31m \u001b[0mheroes_df\u001b[0m\u001b[0;34m.\u001b[0m\u001b[0mto_sql\u001b[0m\u001b[0;34m(\u001b[0m\u001b[0;34m\"heroes\"\u001b[0m\u001b[0;34m,\u001b[0m \u001b[0mconn\u001b[0m\u001b[0;34m,\u001b[0m \u001b[0mif_exists\u001b[0m\u001b[0;34m=\u001b[0m\u001b[0;34m\"append\"\u001b[0m\u001b[0;34m,\u001b[0m \u001b[0mindex\u001b[0m\u001b[0;34m=\u001b[0m\u001b[0;32mFalse\u001b[0m\u001b[0;34m)\u001b[0m\u001b[0;34m\u001b[0m\u001b[0;34m\u001b[0m\u001b[0m\n\u001b[0m\u001b[1;32m     10\u001b[0m \u001b[0;34m\u001b[0m\u001b[0m\n\u001b[1;32m     11\u001b[0m \u001b[0;31m# Insert data into villains table\u001b[0m\u001b[0;34m\u001b[0m\u001b[0;34m\u001b[0m\u001b[0m\n",
            "\u001b[0;32m/usr/local/lib/python3.11/dist-packages/pandas/util/_decorators.py\u001b[0m in \u001b[0;36mwrapper\u001b[0;34m(*args, **kwargs)\u001b[0m\n\u001b[1;32m    331\u001b[0m                     \u001b[0mstacklevel\u001b[0m\u001b[0;34m=\u001b[0m\u001b[0mfind_stack_level\u001b[0m\u001b[0;34m(\u001b[0m\u001b[0;34m)\u001b[0m\u001b[0;34m,\u001b[0m\u001b[0;34m\u001b[0m\u001b[0;34m\u001b[0m\u001b[0m\n\u001b[1;32m    332\u001b[0m                 )\n\u001b[0;32m--> 333\u001b[0;31m             \u001b[0;32mreturn\u001b[0m \u001b[0mfunc\u001b[0m\u001b[0;34m(\u001b[0m\u001b[0;34m*\u001b[0m\u001b[0margs\u001b[0m\u001b[0;34m,\u001b[0m \u001b[0;34m**\u001b[0m\u001b[0mkwargs\u001b[0m\u001b[0;34m)\u001b[0m\u001b[0;34m\u001b[0m\u001b[0;34m\u001b[0m\u001b[0m\n\u001b[0m\u001b[1;32m    334\u001b[0m \u001b[0;34m\u001b[0m\u001b[0m\n\u001b[1;32m    335\u001b[0m         \u001b[0;31m# error: \"Callable[[VarArg(Any), KwArg(Any)], Any]\" has no\u001b[0m\u001b[0;34m\u001b[0m\u001b[0;34m\u001b[0m\u001b[0m\n",
            "\u001b[0;32m/usr/local/lib/python3.11/dist-packages/pandas/core/generic.py\u001b[0m in \u001b[0;36mto_sql\u001b[0;34m(self, name, con, schema, if_exists, index, index_label, chunksize, dtype, method)\u001b[0m\n\u001b[1;32m   3085\u001b[0m         \u001b[0;32mfrom\u001b[0m \u001b[0mpandas\u001b[0m\u001b[0;34m.\u001b[0m\u001b[0mio\u001b[0m \u001b[0;32mimport\u001b[0m \u001b[0msql\u001b[0m\u001b[0;34m\u001b[0m\u001b[0;34m\u001b[0m\u001b[0m\n\u001b[1;32m   3086\u001b[0m \u001b[0;34m\u001b[0m\u001b[0m\n\u001b[0;32m-> 3087\u001b[0;31m         return sql.to_sql(\n\u001b[0m\u001b[1;32m   3088\u001b[0m             \u001b[0mself\u001b[0m\u001b[0;34m,\u001b[0m\u001b[0;34m\u001b[0m\u001b[0;34m\u001b[0m\u001b[0m\n\u001b[1;32m   3089\u001b[0m             \u001b[0mname\u001b[0m\u001b[0;34m,\u001b[0m\u001b[0;34m\u001b[0m\u001b[0;34m\u001b[0m\u001b[0m\n",
            "\u001b[0;32m/usr/local/lib/python3.11/dist-packages/pandas/io/sql.py\u001b[0m in \u001b[0;36mto_sql\u001b[0;34m(frame, name, con, schema, if_exists, index, index_label, chunksize, dtype, method, engine, **engine_kwargs)\u001b[0m\n\u001b[1;32m    840\u001b[0m \u001b[0;34m\u001b[0m\u001b[0m\n\u001b[1;32m    841\u001b[0m     \u001b[0;32mwith\u001b[0m \u001b[0mpandasSQL_builder\u001b[0m\u001b[0;34m(\u001b[0m\u001b[0mcon\u001b[0m\u001b[0;34m,\u001b[0m \u001b[0mschema\u001b[0m\u001b[0;34m=\u001b[0m\u001b[0mschema\u001b[0m\u001b[0;34m,\u001b[0m \u001b[0mneed_transaction\u001b[0m\u001b[0;34m=\u001b[0m\u001b[0;32mTrue\u001b[0m\u001b[0;34m)\u001b[0m \u001b[0;32mas\u001b[0m \u001b[0mpandas_sql\u001b[0m\u001b[0;34m:\u001b[0m\u001b[0;34m\u001b[0m\u001b[0;34m\u001b[0m\u001b[0m\n\u001b[0;32m--> 842\u001b[0;31m         return pandas_sql.to_sql(\n\u001b[0m\u001b[1;32m    843\u001b[0m             \u001b[0mframe\u001b[0m\u001b[0;34m,\u001b[0m\u001b[0;34m\u001b[0m\u001b[0;34m\u001b[0m\u001b[0m\n\u001b[1;32m    844\u001b[0m             \u001b[0mname\u001b[0m\u001b[0;34m,\u001b[0m\u001b[0;34m\u001b[0m\u001b[0;34m\u001b[0m\u001b[0m\n",
            "\u001b[0;32m/usr/local/lib/python3.11/dist-packages/pandas/io/sql.py\u001b[0m in \u001b[0;36mto_sql\u001b[0;34m(self, frame, name, if_exists, index, index_label, schema, chunksize, dtype, method, engine, **engine_kwargs)\u001b[0m\n\u001b[1;32m   2849\u001b[0m         )\n\u001b[1;32m   2850\u001b[0m         \u001b[0mtable\u001b[0m\u001b[0;34m.\u001b[0m\u001b[0mcreate\u001b[0m\u001b[0;34m(\u001b[0m\u001b[0;34m)\u001b[0m\u001b[0;34m\u001b[0m\u001b[0;34m\u001b[0m\u001b[0m\n\u001b[0;32m-> 2851\u001b[0;31m         \u001b[0;32mreturn\u001b[0m \u001b[0mtable\u001b[0m\u001b[0;34m.\u001b[0m\u001b[0minsert\u001b[0m\u001b[0;34m(\u001b[0m\u001b[0mchunksize\u001b[0m\u001b[0;34m,\u001b[0m \u001b[0mmethod\u001b[0m\u001b[0;34m)\u001b[0m\u001b[0;34m\u001b[0m\u001b[0;34m\u001b[0m\u001b[0m\n\u001b[0m\u001b[1;32m   2852\u001b[0m \u001b[0;34m\u001b[0m\u001b[0m\n\u001b[1;32m   2853\u001b[0m     \u001b[0;32mdef\u001b[0m \u001b[0mhas_table\u001b[0m\u001b[0;34m(\u001b[0m\u001b[0mself\u001b[0m\u001b[0;34m,\u001b[0m \u001b[0mname\u001b[0m\u001b[0;34m:\u001b[0m \u001b[0mstr\u001b[0m\u001b[0;34m,\u001b[0m \u001b[0mschema\u001b[0m\u001b[0;34m:\u001b[0m \u001b[0mstr\u001b[0m \u001b[0;34m|\u001b[0m \u001b[0;32mNone\u001b[0m \u001b[0;34m=\u001b[0m \u001b[0;32mNone\u001b[0m\u001b[0;34m)\u001b[0m \u001b[0;34m->\u001b[0m \u001b[0mbool\u001b[0m\u001b[0;34m:\u001b[0m\u001b[0;34m\u001b[0m\u001b[0;34m\u001b[0m\u001b[0m\n",
            "\u001b[0;32m/usr/local/lib/python3.11/dist-packages/pandas/io/sql.py\u001b[0m in \u001b[0;36minsert\u001b[0;34m(self, chunksize, method)\u001b[0m\n\u001b[1;32m   1117\u001b[0m \u001b[0;34m\u001b[0m\u001b[0m\n\u001b[1;32m   1118\u001b[0m                 \u001b[0mchunk_iter\u001b[0m \u001b[0;34m=\u001b[0m \u001b[0mzip\u001b[0m\u001b[0;34m(\u001b[0m\u001b[0;34m*\u001b[0m\u001b[0;34m(\u001b[0m\u001b[0marr\u001b[0m\u001b[0;34m[\u001b[0m\u001b[0mstart_i\u001b[0m\u001b[0;34m:\u001b[0m\u001b[0mend_i\u001b[0m\u001b[0;34m]\u001b[0m \u001b[0;32mfor\u001b[0m \u001b[0marr\u001b[0m \u001b[0;32min\u001b[0m \u001b[0mdata_list\u001b[0m\u001b[0;34m)\u001b[0m\u001b[0;34m)\u001b[0m\u001b[0;34m\u001b[0m\u001b[0;34m\u001b[0m\u001b[0m\n\u001b[0;32m-> 1119\u001b[0;31m                 \u001b[0mnum_inserted\u001b[0m \u001b[0;34m=\u001b[0m \u001b[0mexec_insert\u001b[0m\u001b[0;34m(\u001b[0m\u001b[0mconn\u001b[0m\u001b[0;34m,\u001b[0m \u001b[0mkeys\u001b[0m\u001b[0;34m,\u001b[0m \u001b[0mchunk_iter\u001b[0m\u001b[0;34m)\u001b[0m\u001b[0;34m\u001b[0m\u001b[0;34m\u001b[0m\u001b[0m\n\u001b[0m\u001b[1;32m   1120\u001b[0m                 \u001b[0;31m# GH 46891\u001b[0m\u001b[0;34m\u001b[0m\u001b[0;34m\u001b[0m\u001b[0m\n\u001b[1;32m   1121\u001b[0m                 \u001b[0;32mif\u001b[0m \u001b[0mnum_inserted\u001b[0m \u001b[0;32mis\u001b[0m \u001b[0;32mnot\u001b[0m \u001b[0;32mNone\u001b[0m\u001b[0;34m:\u001b[0m\u001b[0;34m\u001b[0m\u001b[0;34m\u001b[0m\u001b[0m\n",
            "\u001b[0;32m/usr/local/lib/python3.11/dist-packages/pandas/io/sql.py\u001b[0m in \u001b[0;36m_execute_insert\u001b[0;34m(self, conn, keys, data_iter)\u001b[0m\n\u001b[1;32m   2545\u001b[0m     \u001b[0;32mdef\u001b[0m \u001b[0m_execute_insert\u001b[0m\u001b[0;34m(\u001b[0m\u001b[0mself\u001b[0m\u001b[0;34m,\u001b[0m \u001b[0mconn\u001b[0m\u001b[0;34m,\u001b[0m \u001b[0mkeys\u001b[0m\u001b[0;34m,\u001b[0m \u001b[0mdata_iter\u001b[0m\u001b[0;34m)\u001b[0m \u001b[0;34m->\u001b[0m \u001b[0mint\u001b[0m\u001b[0;34m:\u001b[0m\u001b[0;34m\u001b[0m\u001b[0;34m\u001b[0m\u001b[0m\n\u001b[1;32m   2546\u001b[0m         \u001b[0mdata_list\u001b[0m \u001b[0;34m=\u001b[0m \u001b[0mlist\u001b[0m\u001b[0;34m(\u001b[0m\u001b[0mdata_iter\u001b[0m\u001b[0;34m)\u001b[0m\u001b[0;34m\u001b[0m\u001b[0;34m\u001b[0m\u001b[0m\n\u001b[0;32m-> 2547\u001b[0;31m         \u001b[0mconn\u001b[0m\u001b[0;34m.\u001b[0m\u001b[0mexecutemany\u001b[0m\u001b[0;34m(\u001b[0m\u001b[0mself\u001b[0m\u001b[0;34m.\u001b[0m\u001b[0minsert_statement\u001b[0m\u001b[0;34m(\u001b[0m\u001b[0mnum_rows\u001b[0m\u001b[0;34m=\u001b[0m\u001b[0;36m1\u001b[0m\u001b[0;34m)\u001b[0m\u001b[0;34m,\u001b[0m \u001b[0mdata_list\u001b[0m\u001b[0;34m)\u001b[0m\u001b[0;34m\u001b[0m\u001b[0;34m\u001b[0m\u001b[0m\n\u001b[0m\u001b[1;32m   2548\u001b[0m         \u001b[0;32mreturn\u001b[0m \u001b[0mconn\u001b[0m\u001b[0;34m.\u001b[0m\u001b[0mrowcount\u001b[0m\u001b[0;34m\u001b[0m\u001b[0;34m\u001b[0m\u001b[0m\n\u001b[1;32m   2549\u001b[0m \u001b[0;34m\u001b[0m\u001b[0m\n",
            "\u001b[0;31mOperationalError\u001b[0m: table heroes has no column named id"
          ]
        }
      ]
    },
    {
      "cell_type": "code",
      "source": [
        "# Verify inserted data\n",
        "print(pd.read_sql(\"SELECT * FROM heroes;\", conn))\n",
        "print(pd.read_sql(\"SELECT * FROM villains;\", conn))\n",
        "print(pd.read_sql(\"SELECT * FROM battles;\", conn))"
      ],
      "metadata": {
        "id": "MZRZ5xyi_x-P",
        "outputId": "c9b1a999-b99c-4997-bc53-5cfef4246ce7",
        "colab": {
          "base_uri": "https://localhost:8080/"
        }
      },
      "id": "MZRZ5xyi_x-P",
      "execution_count": 38,
      "outputs": [
        {
          "output_type": "stream",
          "name": "stdout",
          "text": [
            "   hero_id            name               power            team\n",
            "0        1      Spider-Man        Web-slinging        Avengers\n",
            "1        2        Iron Man       Powered Armor        Avengers\n",
            "2        3          Batman    Genius Detective  Justice League\n",
            "3        4        Superman      Super Strength  Justice League\n",
            "4        5            Thor      God of Thunder        Avengers\n",
            "5        6    Wonder Woman  Amazonian Strength  Justice League\n",
            "6        7   Black Panther    Enhanced Agility        Avengers\n",
            "7        8       The Flash         Super Speed  Justice League\n",
            "8        9            Hulk      Super Strength        Avengers\n",
            "9       10  Doctor Strange         Mystic Arts        Avengers\n",
            "   villain_id          name                           evil_plan\n",
            "0           1  Green Goblin                  Terrorize New York\n",
            "1           2        Thanos         Collect all Infinity Stones\n",
            "2           3         Joker              Spread chaos in Gotham\n",
            "3           4    Lex Luthor                     Defeat Superman\n",
            "4           5          Loki  Trick humanity into worshiping him\n",
            "5           6        Ultron                 AI world domination\n",
            "6           7      Darkseid                Control the universe\n",
            "7           8         Venom                  Consume Spider-Man\n",
            "8           9       Magneto                    Mutant supremacy\n",
            "9          10     Red Skull                        Revive Hydra\n",
            "Empty DataFrame\n",
            "Columns: [battle_id, hero_id, villain_id, outcome]\n",
            "Index: []\n"
          ]
        }
      ]
    },
    {
      "cell_type": "markdown",
      "id": "33548d9f",
      "metadata": {
        "id": "33548d9f"
      },
      "source": [
        "## Step 3: Querying the Database\n",
        "\n",
        "### Tasks:\n",
        "Write SQL queries to answer the following:\n",
        "1. Retrieve all superheroes and their powers.\n",
        "2. Find all battles where the hero won.\n",
        "3. List all villains and their evil plans.\n",
        "4. Determine which superhero has fought the most battles.\n",
        "\n",
        "✅ **Checkpoint:** Ensure that all queries return meaningful results from the database."
      ]
    },
    {
      "cell_type": "code",
      "source": [
        "query1 = \"SELECT name, power FROM heroes;\"\n",
        "print(pd.read_sql(query1, conn))"
      ],
      "metadata": {
        "id": "wsPFWN5E_2Dq",
        "outputId": "d8ab6edc-ea80-4039-f242-7880b35d37db",
        "colab": {
          "base_uri": "https://localhost:8080/"
        }
      },
      "id": "wsPFWN5E_2Dq",
      "execution_count": 26,
      "outputs": [
        {
          "output_type": "stream",
          "name": "stdout",
          "text": [
            "             name               power\n",
            "0      Spider-Man        Web-slinging\n",
            "1        Iron Man       Powered Armor\n",
            "2          Batman    Genius Detective\n",
            "3        Superman      Super Strength\n",
            "4            Thor      God of Thunder\n",
            "5    Wonder Woman  Amazonian Strength\n",
            "6   Black Panther    Enhanced Agility\n",
            "7       The Flash         Super Speed\n",
            "8            Hulk      Super Strength\n",
            "9  Doctor Strange         Mystic Arts\n"
          ]
        }
      ]
    },
    {
      "cell_type": "code",
      "source": [
        "query2 = \"\"\"\n",
        "SELECT heroes.name AS hero, villains.name AS villain, battles.outcome\n",
        "FROM battles\n",
        "JOIN heroes ON battles.hero_id = heroes.hero_id\n",
        "JOIN villains ON battles.villain_id = villains.villain_id\n",
        "WHERE battles.outcome = 'Hero Wins';\n",
        "\"\"\"\n",
        "print(pd.read_sql(query2, conn))"
      ],
      "metadata": {
        "id": "8PCDaZjy_2_z",
        "outputId": "52a6782c-ee25-40a8-ca69-46719463eea5",
        "colab": {
          "base_uri": "https://localhost:8080/"
        }
      },
      "id": "8PCDaZjy_2_z",
      "execution_count": 27,
      "outputs": [
        {
          "output_type": "stream",
          "name": "stdout",
          "text": [
            "Empty DataFrame\n",
            "Columns: [hero, villain, outcome]\n",
            "Index: []\n"
          ]
        }
      ]
    },
    {
      "cell_type": "code",
      "source": [
        "query3 = \"SELECT name, evil_plan FROM villains;\"\n",
        "print(pd.read_sql(query3, conn))"
      ],
      "metadata": {
        "id": "5plK6tdh_7o6",
        "outputId": "4f62777a-dab8-444f-ea02-fe2c5f9ddb34",
        "colab": {
          "base_uri": "https://localhost:8080/"
        }
      },
      "id": "5plK6tdh_7o6",
      "execution_count": 28,
      "outputs": [
        {
          "output_type": "stream",
          "name": "stdout",
          "text": [
            "           name                           evil_plan\n",
            "0  Green Goblin                  Terrorize New York\n",
            "1        Thanos         Collect all Infinity Stones\n",
            "2         Joker              Spread chaos in Gotham\n",
            "3    Lex Luthor                     Defeat Superman\n",
            "4          Loki  Trick humanity into worshiping him\n",
            "5        Ultron                 AI world domination\n",
            "6      Darkseid                Control the universe\n",
            "7         Venom                  Consume Spider-Man\n",
            "8       Magneto                    Mutant supremacy\n",
            "9     Red Skull                        Revive Hydra\n"
          ]
        }
      ]
    },
    {
      "cell_type": "code",
      "source": [
        "query4 = \"\"\"\n",
        "SELECT heroes.name, COUNT(battles.battle_id) AS battle_count\n",
        "FROM battles\n",
        "JOIN heroes ON battles.hero_id = heroes.hero_id\n",
        "GROUP BY heroes.name\n",
        "ORDER BY battle_count DESC\n",
        "LIMIT 1;\n",
        "\"\"\"\n",
        "print(pd.read_sql(query4, conn))"
      ],
      "metadata": {
        "id": "hO9ndfbi_9pc",
        "outputId": "01d70cd5-d500-42b2-d386-48e05d979532",
        "colab": {
          "base_uri": "https://localhost:8080/"
        }
      },
      "id": "hO9ndfbi_9pc",
      "execution_count": 29,
      "outputs": [
        {
          "output_type": "stream",
          "name": "stdout",
          "text": [
            "Empty DataFrame\n",
            "Columns: [name, battle_count]\n",
            "Index: []\n"
          ]
        }
      ]
    },
    {
      "cell_type": "markdown",
      "id": "de8bda94",
      "metadata": {
        "id": "de8bda94"
      },
      "source": [
        "## Step 4: Add a Custom Feature\n",
        "\n",
        "### Tasks:\n",
        "1. Design and implement an additional table related to superheroes or villains.\n",
        "2. Populate it with data.\n",
        "3. Write at least one query to retrieve meaningful insights from the new table.\n",
        "\n",
        "**Examples of Custom Features:**\n",
        "- Sidekicks for superheroes\n",
        "- Villain hideouts\n",
        "- Battle locations\n",
        "- Superhero equipment\n",
        "\n",
        "✅ **Checkpoint:** Ensure that the new table and queries function correctly."
      ]
    },
    {
      "cell_type": "code",
      "source": [
        "cursor.execute(\"\"\"\n",
        "CREATE TABLE IF NOT EXISTS sidekicks (\n",
        "    sidekick_id INTEGER PRIMARY KEY AUTOINCREMENT,\n",
        "    hero_id INTEGER,\n",
        "    sidekick_name TEXT UNIQUE NOT NULL,\n",
        "    FOREIGN KEY(hero_id) REFERENCES heroes(hero_id)\n",
        ");\n",
        "\"\"\")\n",
        "\n",
        "# Insert sample sidekick data\n",
        "cursor.executemany(\"INSERT INTO sidekicks (hero_id, sidekick_name) VALUES (?, ?);\", [\n",
        "    (1, \"Robin\"),\n",
        "    (2, \"Bucky Barnes\"),\n",
        "    (3, \"War Machine\")\n",
        "])\n",
        "conn.commit()\n",
        "print(\"Sidekicks table created and populated successfully!\")"
      ],
      "metadata": {
        "id": "LaECCzquAECD",
        "outputId": "54ce11f1-5c3c-4d3a-f76e-23c806d3f945",
        "colab": {
          "base_uri": "https://localhost:8080/"
        }
      },
      "id": "LaECCzquAECD",
      "execution_count": 30,
      "outputs": [
        {
          "output_type": "stream",
          "name": "stdout",
          "text": [
            "Sidekicks table created and populated successfully!\n"
          ]
        }
      ]
    },
    {
      "cell_type": "code",
      "source": [
        "query5 = \"\"\"\n",
        "SELECT heroes.name AS hero, sidekicks.sidekick_name\n",
        "FROM sidekicks\n",
        "JOIN heroes ON sidekicks.hero_id = heroes.hero_id;\n",
        "\"\"\"\n",
        "print(pd.read_sql(query5, conn))"
      ],
      "metadata": {
        "id": "culwsuCOAF4q",
        "outputId": "e7c10702-8f65-4d4e-965a-0ce66c868f52",
        "colab": {
          "base_uri": "https://localhost:8080/"
        }
      },
      "id": "culwsuCOAF4q",
      "execution_count": 31,
      "outputs": [
        {
          "output_type": "stream",
          "name": "stdout",
          "text": [
            "          hero sidekick_name\n",
            "0     Iron Man         Robin\n",
            "1       Batman        Falcon\n",
            "2   Spider-Man     Kid Flash\n",
            "3     Iron Man         Robin\n",
            "4       Batman        Falcon\n",
            "5   Spider-Man     Kid Flash\n",
            "6   Spider-Man         Robin\n",
            "7     Iron Man  Bucky Barnes\n",
            "8       Batman   War Machine\n",
            "9   Spider-Man         Robin\n",
            "10    Iron Man  Bucky Barnes\n",
            "11      Batman   War Machine\n"
          ]
        }
      ]
    },
    {
      "cell_type": "markdown",
      "id": "9bf43fe6",
      "metadata": {
        "id": "9bf43fe6"
      },
      "source": [
        "## Bonus Challenge (+5 Points)\n",
        "\n",
        "### Tasks:\n",
        "1. Enhance your project by adding a visual or interactive component.\n",
        "\n",
        "**Options:**\n",
        "- Visualize battles using Matplotlib (e.g., a bar chart showing how many battles each superhero has fought).\n",
        "- Make it interactive (e.g., allow users to input a superhero name and display their battles).\n",
        "\n",
        "✅ **Checkpoint:** If attempting the bonus, ensure that your visualization or interactive component works correctly."
      ]
    },
    {
      "cell_type": "code",
      "source": [
        "import matplotlib.pyplot as plt\n",
        "\n",
        "# Query battle counts\n",
        "battle_data = pd.read_sql(\"\"\"\n",
        "SELECT heroes.name, COUNT(battles.battle_id) AS wins\n",
        "FROM battles\n",
        "JOIN heroes ON battles.hero_id = heroes.hero_id\n",
        "WHERE battles.outcome = 'Hero Wins'\n",
        "GROUP BY heroes.name;\n",
        "\"\"\", conn)\n",
        "\n",
        "# Plot\n",
        "plt.figure(figsize=(8, 5))\n",
        "plt.bar(battle_data['name'], battle_data['wins'], color='blue')\n",
        "plt.xlabel(\"Superheroes\")\n",
        "plt.ylabel(\"Number of Wins\")\n",
        "plt.title(\"Superhero Battle Wins\")\n",
        "plt.xticks(rotation=45)\n",
        "plt.show()"
      ],
      "metadata": {
        "id": "gIKrNw7BANlL",
        "outputId": "f0661e22-3115-4d4e-9fb8-741eeb4cdca4",
        "colab": {
          "base_uri": "https://localhost:8080/",
          "height": 513
        }
      },
      "id": "gIKrNw7BANlL",
      "execution_count": 24,
      "outputs": [
        {
          "output_type": "display_data",
          "data": {
            "text/plain": [
              "<Figure size 800x500 with 1 Axes>"
            ],
            "image/png": "[encoded data removed]"
          },
          "metadata": {}
        }
      ]
    },
    {
      "cell_type": "markdown",
      "id": "89f56c05",
      "metadata": {
        "id": "89f56c05"
      },
      "source": [
        "## Submission Guidelines\n",
        "\n",
        "Each group must submit a **Google Colab Notebook (.ipynb)** containing:\n",
        "- ✅ **Database schema (DDL)**\n",
        "- ✅ **CSV imports & data insertion (DML)**\n",
        "- ✅ **SQL queries & results**\n",
        "- ✅ **Custom feature (bonus if applicable)**"
      ]
    },
    {
      "cell_type": "markdown",
      "id": "61477c9b",
      "metadata": {
        "id": "61477c9b"
      },
      "source": [
        "## Grading Criteria (Total: 25 Points)\n",
        "\n",
        "| Section                 | Points |\n",
        "|-------------------------|--------|\n",
        "| Database Setup          | 5      |\n",
        "| Data Importing         | 10     |\n",
        "| Querying the Data      | 10     |\n",
        "| Extra Feature          | 5      |\n",
        "| Bonus Challenge (Optional) | +5  |"
      ]
    },
    {
      "cell_type": "markdown",
      "id": "92bf6839",
      "metadata": {
        "id": "92bf6839"
      },
      "source": [
        "### Final Notes:\n",
        "- Be **creative** when designing superheroes and villains.\n",
        "- **Comment your code** to explain its functionality.\n",
        "- **Have fun** building your superhero universe!"
      ]
    }
  ],
  "metadata": {
    "colab": {
      "provenance": [],
      "include_colab_link": true
    },
    "language_info": {
      "name": "python"
    },
    "kernelspec": {
      "name": "python3",
      "display_name": "Python 3"
    }
  },
  "nbformat": 4,
  "nbformat_minor": 5
}